{
  "cells": [
    {
      "cell_type": "code",
      "execution_count": null,
      "metadata": {
        "gather": {
          "logged": 1750142210353
        }
      },
      "outputs": [
        {
          "data": {
            "application/vnd.livy.statement-meta+json": {
              "execution_finish_time": "2025-06-17T06:36:50.1611167Z",
              "execution_start_time": "2025-06-17T06:35:22.3774363Z",
              "livy_statement_state": "available",
              "normalized_state": "finished",
              "parent_msg_id": "ef065056-c5b9-4df5-8415-a4c3a633f108",
              "queued_time": "2025-06-17T06:35:22.3761887Z",
              "session_id": "2",
              "session_start_time": null,
              "spark_jobs": {
                "jobs": [],
                "limit": 20,
                "numbers": {
                  "FAILED": 0,
                  "RUNNING": 0,
                  "SUCCEEDED": 0,
                  "UNKNOWN": 0
                },
                "rule": "ALL_DESC"
              },
              "spark_pool": "5f59bc06-b850-41e5-9556-b74696325aeb",
              "state": "finished",
              "statement_id": 7,
              "statement_ids": [
                7
              ]
            },
            "text/plain": [
              "StatementMeta(5f59bc06-b850-41e5-9556-b74696325aeb, 2, 7, Finished, Available, Finished)"
            ]
          },
          "metadata": {},
          "output_type": "display_data"
        },
        {
          "name": "stdout",
          "output_type": "stream",
          "text": [
            "Performing interactive authentication. Please follow the instructions on the terminal.\n",
            "To sign in, use a web browser to open the page https://microsoft.com/devicelogin and enter the code ISGL2FN6Z to authenticate.\n",
            "Interactive authentication successfully completed.\n"
          ]
        }
      ],
      "source": [
        "from azureml.core import Workspace, Dataset, Datastore\n",
        "import pandas as pd\n",
        "\n",
        "ws = Workspace.get(\n",
        "    name=\"Sjlee-ml-001\",\n",
        "    resource_group=\"lsj-RG\",\n",
        "    subscription_id=\"dc6618c1-53d2-4bc8-ab82-68140c3fbde1\"\n",
        ")"
      ]
    },
    {
      "cell_type": "code",
      "execution_count": 18,
      "metadata": {
        "gather": {
          "logged": 1750144946030
        }
      },
      "outputs": [
        {
          "data": {
            "application/vnd.livy.statement-meta+json": {
              "execution_finish_time": "2025-06-17T07:22:25.8145348Z",
              "execution_start_time": "2025-06-17T07:22:24.4466213Z",
              "livy_statement_state": "available",
              "normalized_state": "finished",
              "parent_msg_id": "4c704763-fc80-46b6-a9a5-96fdb2ddf969",
              "queued_time": "2025-06-17T07:22:24.4454075Z",
              "session_id": "2",
              "session_start_time": null,
              "spark_jobs": {
                "jobs": [],
                "limit": 20,
                "numbers": {
                  "FAILED": 0,
                  "RUNNING": 0,
                  "SUCCEEDED": 0,
                  "UNKNOWN": 0
                },
                "rule": "ALL_DESC"
              },
              "spark_pool": "5f59bc06-b850-41e5-9556-b74696325aeb",
              "state": "finished",
              "statement_id": 23,
              "statement_ids": [
                23
              ]
            },
            "text/plain": [
              "StatementMeta(5f59bc06-b850-41e5-9556-b74696325aeb, 2, 23, Finished, Available, Finished)"
            ]
          },
          "metadata": {},
          "output_type": "display_data"
        },
        {
          "data": {
            "text/html": [
              "<div>\n",
              "<style scoped>\n",
              "    .dataframe tbody tr th:only-of-type {\n",
              "        vertical-align: middle;\n",
              "    }\n",
              "\n",
              "    .dataframe tbody tr th {\n",
              "        vertical-align: top;\n",
              "    }\n",
              "\n",
              "    .dataframe thead th {\n",
              "        text-align: right;\n",
              "    }\n",
              "</style>\n",
              "<table border=\"1\" class=\"dataframe\">\n",
              "  <thead>\n",
              "    <tr style=\"text-align: right;\">\n",
              "      <th></th>\n",
              "      <th>년월</th>\n",
              "      <th>고객ID</th>\n",
              "      <th>성별</th>\n",
              "      <th>연령대</th>\n",
              "      <th>가입일</th>\n",
              "      <th>해지일</th>\n",
              "      <th>요금제</th>\n",
              "      <th>단말기기종</th>\n",
              "      <th>상태</th>\n",
              "      <th>상태사유</th>\n",
              "      <th>신용등급</th>\n",
              "      <th>선택약정여부</th>\n",
              "      <th>요금제가격</th>\n",
              "      <th>월평균요금</th>\n",
              "      <th>데이터사용량(GB)</th>\n",
              "      <th>가입자수</th>\n",
              "    </tr>\n",
              "  </thead>\n",
              "  <tbody>\n",
              "    <tr>\n",
              "      <th>0</th>\n",
              "      <td>202503</td>\n",
              "      <td>CUST0001</td>\n",
              "      <td>F</td>\n",
              "      <td>30대</td>\n",
              "      <td>2022-08-10</td>\n",
              "      <td>0000-00-00</td>\n",
              "      <td>TVING 초이스 스페셜</td>\n",
              "      <td>Galaxy S22</td>\n",
              "      <td>정상</td>\n",
              "      <td>사용중</td>\n",
              "      <td>1등급</td>\n",
              "      <td>False</td>\n",
              "      <td>110000</td>\n",
              "      <td>85661</td>\n",
              "      <td>28.3</td>\n",
              "      <td>1</td>\n",
              "    </tr>\n",
              "    <tr>\n",
              "      <th>1</th>\n",
              "      <td>202504</td>\n",
              "      <td>CUST0002</td>\n",
              "      <td>F</td>\n",
              "      <td>10대</td>\n",
              "      <td>2021-09-08</td>\n",
              "      <td>0000-00-00</td>\n",
              "      <td>디즈니+ 초이스 스페셜</td>\n",
              "      <td>Galaxy S22</td>\n",
              "      <td>정상</td>\n",
              "      <td>사용중</td>\n",
              "      <td>2등급</td>\n",
              "      <td>True</td>\n",
              "      <td>110000</td>\n",
              "      <td>79712</td>\n",
              "      <td>31.0</td>\n",
              "      <td>1</td>\n",
              "    </tr>\n",
              "    <tr>\n",
              "      <th>2</th>\n",
              "      <td>202503</td>\n",
              "      <td>CUST0003</td>\n",
              "      <td>M</td>\n",
              "      <td>20대</td>\n",
              "      <td>2022-11-25</td>\n",
              "      <td>2024-08-09</td>\n",
              "      <td>왓챠 초이스 스페셜</td>\n",
              "      <td>iPhone 14</td>\n",
              "      <td>해지</td>\n",
              "      <td>단순 해지 요청</td>\n",
              "      <td>1등급</td>\n",
              "      <td>False</td>\n",
              "      <td>110000</td>\n",
              "      <td>82473</td>\n",
              "      <td>39.7</td>\n",
              "      <td>0</td>\n",
              "    </tr>\n",
              "    <tr>\n",
              "      <th>3</th>\n",
              "      <td>202503</td>\n",
              "      <td>CUST0004</td>\n",
              "      <td>M</td>\n",
              "      <td>50대</td>\n",
              "      <td>2021-12-08</td>\n",
              "      <td>2022-08-28</td>\n",
              "      <td>지니 초이스 프리미엄</td>\n",
              "      <td>Galaxy S22</td>\n",
              "      <td>해지</td>\n",
              "      <td>요금 불만</td>\n",
              "      <td>4등급</td>\n",
              "      <td>True</td>\n",
              "      <td>130000</td>\n",
              "      <td>85470</td>\n",
              "      <td>47.8</td>\n",
              "      <td>0</td>\n",
              "    </tr>\n",
              "    <tr>\n",
              "      <th>4</th>\n",
              "      <td>202503</td>\n",
              "      <td>CUST0005</td>\n",
              "      <td>M</td>\n",
              "      <td>60대 이상</td>\n",
              "      <td>2023-09-19</td>\n",
              "      <td>0000-00-00</td>\n",
              "      <td>지니 초이스 베이직</td>\n",
              "      <td>Galaxy S22</td>\n",
              "      <td>일시정지</td>\n",
              "      <td>일시적인 요금 부담</td>\n",
              "      <td>4등급</td>\n",
              "      <td>True</td>\n",
              "      <td>90000</td>\n",
              "      <td>65176</td>\n",
              "      <td>23.3</td>\n",
              "      <td>1</td>\n",
              "    </tr>\n",
              "  </tbody>\n",
              "</table>\n",
              "</div>"
            ],
            "text/plain": [
              "       년월      고객ID 성별     연령대        가입일         해지일            요금제  \\\n",
              "0  202503  CUST0001  F     30대 2022-08-10  0000-00-00  TVING 초이스 스페셜   \n",
              "1  202504  CUST0002  F     10대 2021-09-08  0000-00-00   디즈니+ 초이스 스페셜   \n",
              "2  202503  CUST0003  M     20대 2022-11-25  2024-08-09     왓챠 초이스 스페셜   \n",
              "3  202503  CUST0004  M     50대 2021-12-08  2022-08-28    지니 초이스 프리미엄   \n",
              "4  202503  CUST0005  M  60대 이상 2023-09-19  0000-00-00     지니 초이스 베이직   \n",
              "\n",
              "        단말기기종    상태        상태사유 신용등급  선택약정여부   요금제가격  월평균요금  데이터사용량(GB)  가입자수  \n",
              "0  Galaxy S22    정상         사용중  1등급   False  110000  85661        28.3     1  \n",
              "1  Galaxy S22    정상         사용중  2등급    True  110000  79712        31.0     1  \n",
              "2   iPhone 14    해지    단순 해지 요청  1등급   False  110000  82473        39.7     0  \n",
              "3  Galaxy S22    해지       요금 불만  4등급    True  130000  85470        47.8     0  \n",
              "4  Galaxy S22  일시정지  일시적인 요금 부담  4등급    True   90000  65176        23.3     1  "
            ]
          },
          "execution_count": 45,
          "metadata": {},
          "output_type": "execute_result"
        }
      ],
      "source": [
        "# 2. 등록된 데이터셋 불러오기\n",
        "dataset = Dataset.get_by_name(ws, name='sbscr_data_ml_02')\n",
        "df = dataset.to_pandas_dataframe()\n",
        "df_rsc = dataset.to_pandas_dataframe()\n",
        "\n",
        "df.head()"
      ]
    },
    {
      "cell_type": "code",
      "execution_count": 5,
      "metadata": {
        "gather": {
          "logged": 1750142588057
        }
      },
      "outputs": [
        {
          "data": {
            "application/vnd.livy.statement-meta+json": {
              "execution_finish_time": "2025-06-17T06:43:07.9006867Z",
              "execution_start_time": "2025-06-17T06:43:07.6529764Z",
              "livy_statement_state": "available",
              "normalized_state": "finished",
              "parent_msg_id": "4682c4b1-a868-43fc-92b8-5c7dceede565",
              "queued_time": "2025-06-17T06:43:07.6517239Z",
              "session_id": "2",
              "session_start_time": null,
              "spark_jobs": {
                "jobs": [],
                "limit": 20,
                "numbers": {
                  "FAILED": 0,
                  "RUNNING": 0,
                  "SUCCEEDED": 0,
                  "UNKNOWN": 0
                },
                "rule": "ALL_DESC"
              },
              "spark_pool": "5f59bc06-b850-41e5-9556-b74696325aeb",
              "state": "finished",
              "statement_id": 10,
              "statement_ids": [
                10
              ]
            },
            "text/plain": [
              "StatementMeta(5f59bc06-b850-41e5-9556-b74696325aeb, 2, 10, Finished, Available, Finished)"
            ]
          },
          "metadata": {},
          "output_type": "display_data"
        }
      ],
      "source": [
        "# 3. 전처리\n",
        "import pandas as pd\n",
        "\n",
        "# 날짜/식별자 제거 (필요에 따라 조정 가능)\n",
        "df = df.drop(columns=['고객ID', '년월', '가입일', '해지일'])\n",
        "\n",
        "# 결측값 제거\n",
        "df = df.dropna()\n",
        "\n",
        "# 범주형 변수 → 원-핫 인코딩\n",
        "df_encoded = pd.get_dummies(df, drop_first=True)\n",
        "\n",
        "# 4. 입력 변수(X), 타겟 변수(y) 분리\n",
        "X = df_encoded.drop('가입자수', axis=1)\n",
        "y = df_encoded['가입자수']"
      ]
    },
    {
      "cell_type": "code",
      "execution_count": 6,
      "metadata": {
        "gather": {
          "logged": 1750142601225
        }
      },
      "outputs": [
        {
          "data": {
            "application/vnd.livy.statement-meta+json": {
              "execution_finish_time": "2025-06-17T06:43:21.0221897Z",
              "execution_start_time": "2025-06-17T06:43:20.7735458Z",
              "livy_statement_state": "available",
              "normalized_state": "finished",
              "parent_msg_id": "54959e19-626d-4b8b-beac-fbe9a1c5e751",
              "queued_time": "2025-06-17T06:43:20.7723909Z",
              "session_id": "2",
              "session_start_time": null,
              "spark_jobs": {
                "jobs": [],
                "limit": 20,
                "numbers": {
                  "FAILED": 0,
                  "RUNNING": 0,
                  "SUCCEEDED": 0,
                  "UNKNOWN": 0
                },
                "rule": "ALL_DESC"
              },
              "spark_pool": "5f59bc06-b850-41e5-9556-b74696325aeb",
              "state": "finished",
              "statement_id": 11,
              "statement_ids": [
                11
              ]
            },
            "text/plain": [
              "StatementMeta(5f59bc06-b850-41e5-9556-b74696325aeb, 2, 11, Finished, Available, Finished)"
            ]
          },
          "metadata": {},
          "output_type": "display_data"
        },
        {
          "data": {
            "text/html": [
              "<div>\n",
              "<style scoped>\n",
              "    .dataframe tbody tr th:only-of-type {\n",
              "        vertical-align: middle;\n",
              "    }\n",
              "\n",
              "    .dataframe tbody tr th {\n",
              "        vertical-align: top;\n",
              "    }\n",
              "\n",
              "    .dataframe thead th {\n",
              "        text-align: right;\n",
              "    }\n",
              "</style>\n",
              "<table border=\"1\" class=\"dataframe\">\n",
              "  <thead>\n",
              "    <tr style=\"text-align: right;\">\n",
              "      <th></th>\n",
              "      <th>선택약정여부</th>\n",
              "      <th>요금제가격</th>\n",
              "      <th>월평균요금</th>\n",
              "      <th>데이터사용량(GB)</th>\n",
              "      <th>성별_M</th>\n",
              "      <th>연령대_20대</th>\n",
              "      <th>연령대_30대</th>\n",
              "      <th>연령대_40대</th>\n",
              "      <th>연령대_50대</th>\n",
              "      <th>연령대_60대 이상</th>\n",
              "      <th>...</th>\n",
              "      <th>상태사유_서비스 품질 문제</th>\n",
              "      <th>상태사유_요금 불만</th>\n",
              "      <th>상태사유_일시적인 요금 부담</th>\n",
              "      <th>상태사유_장기 미사용</th>\n",
              "      <th>상태사유_타사로 이동</th>\n",
              "      <th>상태사유_해외 장기 출장</th>\n",
              "      <th>신용등급_2등급</th>\n",
              "      <th>신용등급_3등급</th>\n",
              "      <th>신용등급_4등급</th>\n",
              "      <th>신용등급_5등급</th>\n",
              "    </tr>\n",
              "  </thead>\n",
              "  <tbody>\n",
              "    <tr>\n",
              "      <th>0</th>\n",
              "      <td>False</td>\n",
              "      <td>110000</td>\n",
              "      <td>85661</td>\n",
              "      <td>28.3</td>\n",
              "      <td>0</td>\n",
              "      <td>0</td>\n",
              "      <td>1</td>\n",
              "      <td>0</td>\n",
              "      <td>0</td>\n",
              "      <td>0</td>\n",
              "      <td>...</td>\n",
              "      <td>0</td>\n",
              "      <td>0</td>\n",
              "      <td>0</td>\n",
              "      <td>0</td>\n",
              "      <td>0</td>\n",
              "      <td>0</td>\n",
              "      <td>0</td>\n",
              "      <td>0</td>\n",
              "      <td>0</td>\n",
              "      <td>0</td>\n",
              "    </tr>\n",
              "    <tr>\n",
              "      <th>1</th>\n",
              "      <td>True</td>\n",
              "      <td>110000</td>\n",
              "      <td>79712</td>\n",
              "      <td>31.0</td>\n",
              "      <td>0</td>\n",
              "      <td>0</td>\n",
              "      <td>0</td>\n",
              "      <td>0</td>\n",
              "      <td>0</td>\n",
              "      <td>0</td>\n",
              "      <td>...</td>\n",
              "      <td>0</td>\n",
              "      <td>0</td>\n",
              "      <td>0</td>\n",
              "      <td>0</td>\n",
              "      <td>0</td>\n",
              "      <td>0</td>\n",
              "      <td>1</td>\n",
              "      <td>0</td>\n",
              "      <td>0</td>\n",
              "      <td>0</td>\n",
              "    </tr>\n",
              "    <tr>\n",
              "      <th>2</th>\n",
              "      <td>False</td>\n",
              "      <td>110000</td>\n",
              "      <td>82473</td>\n",
              "      <td>39.7</td>\n",
              "      <td>1</td>\n",
              "      <td>1</td>\n",
              "      <td>0</td>\n",
              "      <td>0</td>\n",
              "      <td>0</td>\n",
              "      <td>0</td>\n",
              "      <td>...</td>\n",
              "      <td>0</td>\n",
              "      <td>0</td>\n",
              "      <td>0</td>\n",
              "      <td>0</td>\n",
              "      <td>0</td>\n",
              "      <td>0</td>\n",
              "      <td>0</td>\n",
              "      <td>0</td>\n",
              "      <td>0</td>\n",
              "      <td>0</td>\n",
              "    </tr>\n",
              "    <tr>\n",
              "      <th>3</th>\n",
              "      <td>True</td>\n",
              "      <td>130000</td>\n",
              "      <td>85470</td>\n",
              "      <td>47.8</td>\n",
              "      <td>1</td>\n",
              "      <td>0</td>\n",
              "      <td>0</td>\n",
              "      <td>0</td>\n",
              "      <td>1</td>\n",
              "      <td>0</td>\n",
              "      <td>...</td>\n",
              "      <td>0</td>\n",
              "      <td>1</td>\n",
              "      <td>0</td>\n",
              "      <td>0</td>\n",
              "      <td>0</td>\n",
              "      <td>0</td>\n",
              "      <td>0</td>\n",
              "      <td>0</td>\n",
              "      <td>1</td>\n",
              "      <td>0</td>\n",
              "    </tr>\n",
              "    <tr>\n",
              "      <th>4</th>\n",
              "      <td>True</td>\n",
              "      <td>90000</td>\n",
              "      <td>65176</td>\n",
              "      <td>23.3</td>\n",
              "      <td>1</td>\n",
              "      <td>0</td>\n",
              "      <td>0</td>\n",
              "      <td>0</td>\n",
              "      <td>0</td>\n",
              "      <td>1</td>\n",
              "      <td>...</td>\n",
              "      <td>0</td>\n",
              "      <td>0</td>\n",
              "      <td>1</td>\n",
              "      <td>0</td>\n",
              "      <td>0</td>\n",
              "      <td>0</td>\n",
              "      <td>0</td>\n",
              "      <td>0</td>\n",
              "      <td>1</td>\n",
              "      <td>0</td>\n",
              "    </tr>\n",
              "  </tbody>\n",
              "</table>\n",
              "<p>5 rows × 47 columns</p>\n",
              "</div>"
            ],
            "text/plain": [
              "   선택약정여부   요금제가격  월평균요금  데이터사용량(GB)  성별_M  연령대_20대  연령대_30대  연령대_40대  \\\n",
              "0   False  110000  85661        28.3     0        0        1        0   \n",
              "1    True  110000  79712        31.0     0        0        0        0   \n",
              "2   False  110000  82473        39.7     1        1        0        0   \n",
              "3    True  130000  85470        47.8     1        0        0        0   \n",
              "4    True   90000  65176        23.3     1        0        0        0   \n",
              "\n",
              "   연령대_50대  연령대_60대 이상  ...  상태사유_서비스 품질 문제  상태사유_요금 불만  상태사유_일시적인 요금 부담  \\\n",
              "0        0           0  ...               0           0                0   \n",
              "1        0           0  ...               0           0                0   \n",
              "2        0           0  ...               0           0                0   \n",
              "3        1           0  ...               0           1                0   \n",
              "4        0           1  ...               0           0                1   \n",
              "\n",
              "   상태사유_장기 미사용  상태사유_타사로 이동  상태사유_해외 장기 출장  신용등급_2등급  신용등급_3등급  신용등급_4등급  \\\n",
              "0            0            0              0         0         0         0   \n",
              "1            0            0              0         1         0         0   \n",
              "2            0            0              0         0         0         0   \n",
              "3            0            0              0         0         0         1   \n",
              "4            0            0              0         0         0         1   \n",
              "\n",
              "   신용등급_5등급  \n",
              "0         0  \n",
              "1         0  \n",
              "2         0  \n",
              "3         0  \n",
              "4         0  \n",
              "\n",
              "[5 rows x 47 columns]"
            ]
          },
          "execution_count": 21,
          "metadata": {},
          "output_type": "execute_result"
        }
      ],
      "source": [
        "X.head()"
      ]
    },
    {
      "cell_type": "code",
      "execution_count": 8,
      "metadata": {
        "gather": {
          "logged": 1750142621979
        }
      },
      "outputs": [
        {
          "data": {
            "application/vnd.livy.statement-meta+json": {
              "execution_finish_time": "2025-06-17T06:43:41.8047849Z",
              "execution_start_time": "2025-06-17T06:43:41.5540821Z",
              "livy_statement_state": "available",
              "normalized_state": "finished",
              "parent_msg_id": "552a7db2-d688-4254-8771-da85a4f45c20",
              "queued_time": "2025-06-17T06:43:41.5528129Z",
              "session_id": "2",
              "session_start_time": null,
              "spark_jobs": {
                "jobs": [],
                "limit": 20,
                "numbers": {
                  "FAILED": 0,
                  "RUNNING": 0,
                  "SUCCEEDED": 0,
                  "UNKNOWN": 0
                },
                "rule": "ALL_DESC"
              },
              "spark_pool": "5f59bc06-b850-41e5-9556-b74696325aeb",
              "state": "finished",
              "statement_id": 13,
              "statement_ids": [
                13
              ]
            },
            "text/plain": [
              "StatementMeta(5f59bc06-b850-41e5-9556-b74696325aeb, 2, 13, Finished, Available, Finished)"
            ]
          },
          "metadata": {},
          "output_type": "display_data"
        },
        {
          "data": {
            "text/plain": [
              "0    1\n",
              "1    1\n",
              "2    0\n",
              "3    0\n",
              "4    1\n",
              "Name: 가입자수, dtype: int64"
            ]
          },
          "execution_count": 25,
          "metadata": {},
          "output_type": "execute_result"
        }
      ],
      "source": [
        "y.head()"
      ]
    },
    {
      "cell_type": "code",
      "execution_count": 9,
      "metadata": {
        "gather": {
          "logged": 1750142718033
        }
      },
      "outputs": [
        {
          "data": {
            "application/vnd.livy.statement-meta+json": {
              "execution_finish_time": "2025-06-17T06:45:17.8598474Z",
              "execution_start_time": "2025-06-17T06:45:08.4746756Z",
              "livy_statement_state": "available",
              "normalized_state": "finished",
              "parent_msg_id": "97d5f093-0afd-4eba-b3ee-af8b670f9b3b",
              "queued_time": "2025-06-17T06:45:08.4734305Z",
              "session_id": "2",
              "session_start_time": null,
              "spark_jobs": {
                "jobs": [],
                "limit": 20,
                "numbers": {
                  "FAILED": 0,
                  "RUNNING": 0,
                  "SUCCEEDED": 0,
                  "UNKNOWN": 0
                },
                "rule": "ALL_DESC"
              },
              "spark_pool": "5f59bc06-b850-41e5-9556-b74696325aeb",
              "state": "finished",
              "statement_id": 14,
              "statement_ids": [
                14
              ]
            },
            "text/plain": [
              "StatementMeta(5f59bc06-b850-41e5-9556-b74696325aeb, 2, 14, Finished, Available, Finished)"
            ]
          },
          "metadata": {},
          "output_type": "display_data"
        },
        {
          "data": {
            "text/html": [
              "<style>#sk-container-id-1 {color: black;background-color: white;}#sk-container-id-1 pre{padding: 0;}#sk-container-id-1 div.sk-toggleable {background-color: white;}#sk-container-id-1 label.sk-toggleable__label {cursor: pointer;display: block;width: 100%;margin-bottom: 0;padding: 0.3em;box-sizing: border-box;text-align: center;}#sk-container-id-1 label.sk-toggleable__label-arrow:before {content: \"▸\";float: left;margin-right: 0.25em;color: #696969;}#sk-container-id-1 label.sk-toggleable__label-arrow:hover:before {color: black;}#sk-container-id-1 div.sk-estimator:hover label.sk-toggleable__label-arrow:before {color: black;}#sk-container-id-1 div.sk-toggleable__content {max-height: 0;max-width: 0;overflow: hidden;text-align: left;background-color: #f0f8ff;}#sk-container-id-1 div.sk-toggleable__content pre {margin: 0.2em;color: black;border-radius: 0.25em;background-color: #f0f8ff;}#sk-container-id-1 input.sk-toggleable__control:checked~div.sk-toggleable__content {max-height: 200px;max-width: 100%;overflow: auto;}#sk-container-id-1 input.sk-toggleable__control:checked~label.sk-toggleable__label-arrow:before {content: \"▾\";}#sk-container-id-1 div.sk-estimator input.sk-toggleable__control:checked~label.sk-toggleable__label {background-color: #d4ebff;}#sk-container-id-1 div.sk-label input.sk-toggleable__control:checked~label.sk-toggleable__label {background-color: #d4ebff;}#sk-container-id-1 input.sk-hidden--visually {border: 0;clip: rect(1px 1px 1px 1px);clip: rect(1px, 1px, 1px, 1px);height: 1px;margin: -1px;overflow: hidden;padding: 0;position: absolute;width: 1px;}#sk-container-id-1 div.sk-estimator {font-family: monospace;background-color: #f0f8ff;border: 1px dotted black;border-radius: 0.25em;box-sizing: border-box;margin-bottom: 0.5em;}#sk-container-id-1 div.sk-estimator:hover {background-color: #d4ebff;}#sk-container-id-1 div.sk-parallel-item::after {content: \"\";width: 100%;border-bottom: 1px solid gray;flex-grow: 1;}#sk-container-id-1 div.sk-label:hover label.sk-toggleable__label {background-color: #d4ebff;}#sk-container-id-1 div.sk-serial::before {content: \"\";position: absolute;border-left: 1px solid gray;box-sizing: border-box;top: 0;bottom: 0;left: 50%;z-index: 0;}#sk-container-id-1 div.sk-serial {display: flex;flex-direction: column;align-items: center;background-color: white;padding-right: 0.2em;padding-left: 0.2em;position: relative;}#sk-container-id-1 div.sk-item {position: relative;z-index: 1;}#sk-container-id-1 div.sk-parallel {display: flex;align-items: stretch;justify-content: center;background-color: white;position: relative;}#sk-container-id-1 div.sk-item::before, #sk-container-id-1 div.sk-parallel-item::before {content: \"\";position: absolute;border-left: 1px solid gray;box-sizing: border-box;top: 0;bottom: 0;left: 50%;z-index: -1;}#sk-container-id-1 div.sk-parallel-item {display: flex;flex-direction: column;z-index: 1;position: relative;background-color: white;}#sk-container-id-1 div.sk-parallel-item:first-child::after {align-self: flex-end;width: 50%;}#sk-container-id-1 div.sk-parallel-item:last-child::after {align-self: flex-start;width: 50%;}#sk-container-id-1 div.sk-parallel-item:only-child::after {width: 0;}#sk-container-id-1 div.sk-dashed-wrapped {border: 1px dashed gray;margin: 0 0.4em 0.5em 0.4em;box-sizing: border-box;padding-bottom: 0.4em;background-color: white;}#sk-container-id-1 div.sk-label label {font-family: monospace;font-weight: bold;display: inline-block;line-height: 1.2em;}#sk-container-id-1 div.sk-label-container {text-align: center;}#sk-container-id-1 div.sk-container {/* jupyter's `normalize.less` sets `[hidden] { display: none; }` but bootstrap.min.css set `[hidden] { display: none !important; }` so we also need the `!important` here to be able to override the default hidden behavior on the sphinx rendered scikit-learn.org. See: https://github.com/scikit-learn/scikit-learn/issues/21755 */display: inline-block !important;position: relative;}#sk-container-id-1 div.sk-text-repr-fallback {display: none;}</style><div id=\"sk-container-id-1\" class=\"sk-top-container\"><div class=\"sk-text-repr-fallback\"><pre>RandomForestClassifier(random_state=42)</pre><b>In a Jupyter environment, please rerun this cell to show the HTML representation or trust the notebook. <br />On GitHub, the HTML representation is unable to render, please try loading this page with nbviewer.org.</b></div><div class=\"sk-container\" hidden><div class=\"sk-item\"><div class=\"sk-estimator sk-toggleable\"><input class=\"sk-toggleable__control sk-hidden--visually\" id=\"sk-estimator-id-1\" type=\"checkbox\" checked><label for=\"sk-estimator-id-1\" class=\"sk-toggleable__label sk-toggleable__label-arrow\">RandomForestClassifier</label><div class=\"sk-toggleable__content\"><pre>RandomForestClassifier(random_state=42)</pre></div></div></div></div></div>"
            ],
            "text/plain": [
              "RandomForestClassifier(random_state=42)"
            ]
          },
          "execution_count": 27,
          "metadata": {},
          "output_type": "execute_result"
        }
      ],
      "source": [
        "# 5. 학습/테스트 세트 분할\n",
        "from sklearn.model_selection import train_test_split\n",
        "\n",
        "X_train, X_test, y_train, y_test = train_test_split(\n",
        "    X, y, test_size=0.2, random_state=42\n",
        ")\n",
        "\n",
        "# 6. 모델 학습\n",
        "from sklearn.ensemble import RandomForestClassifier\n",
        "\n",
        "model = RandomForestClassifier(random_state=42)\n",
        "model.fit(X_train, y_train)"
      ]
    },
    {
      "cell_type": "code",
      "execution_count": 10,
      "metadata": {
        "gather": {
          "logged": 1750142736537
        },
        "jupyter": {
          "outputs_hidden": true
        }
      },
      "outputs": [
        {
          "data": {
            "application/vnd.livy.statement-meta+json": {
              "execution_finish_time": "2025-06-17T06:45:36.3159941Z",
              "execution_start_time": "2025-06-17T06:45:34.1135185Z",
              "livy_statement_state": "available",
              "normalized_state": "finished",
              "parent_msg_id": "a6e61096-75e9-4e4c-a9b8-992ac14baee4",
              "queued_time": "2025-06-17T06:45:34.1123015Z",
              "session_id": "2",
              "session_start_time": null,
              "spark_jobs": {
                "jobs": [],
                "limit": 20,
                "numbers": {
                  "FAILED": 0,
                  "RUNNING": 0,
                  "SUCCEEDED": 0,
                  "UNKNOWN": 0
                },
                "rule": "ALL_DESC"
              },
              "spark_pool": "5f59bc06-b850-41e5-9556-b74696325aeb",
              "state": "finished",
              "statement_id": 15,
              "statement_ids": [
                15
              ]
            },
            "text/plain": [
              "StatementMeta(5f59bc06-b850-41e5-9556-b74696325aeb, 2, 15, Finished, Available, Finished)"
            ]
          },
          "metadata": {},
          "output_type": "display_data"
        },
        {
          "name": "stdout",
          "output_type": "stream",
          "text": [
            "              precision    recall  f1-score   support\n",
            "\n",
            "           0       1.00      1.00      1.00        39\n",
            "           1       1.00      1.00      1.00        61\n",
            "\n",
            "    accuracy                           1.00       100\n",
            "   macro avg       1.00      1.00      1.00       100\n",
            "weighted avg       1.00      1.00      1.00       100\n",
            "\n"
          ]
        },
        {
          "name": "stderr",
          "output_type": "stream",
          "text": [
            "/tmp/ipykernel_12312/3231909860.py:18: UserWarning: Glyph 49345 (\\N{HANGUL SYLLABLE SANG}) missing from current font.\n",
            "  plt.tight_layout()\n",
            "/tmp/ipykernel_12312/3231909860.py:18: UserWarning: Glyph 53468 (\\N{HANGUL SYLLABLE TAE}) missing from current font.\n",
            "  plt.tight_layout()\n",
            "/tmp/ipykernel_12312/3231909860.py:18: UserWarning: Glyph 54644 (\\N{HANGUL SYLLABLE HAE}) missing from current font.\n",
            "  plt.tight_layout()\n",
            "/tmp/ipykernel_12312/3231909860.py:18: UserWarning: Glyph 51648 (\\N{HANGUL SYLLABLE JI}) missing from current font.\n",
            "  plt.tight_layout()\n",
            "/tmp/ipykernel_12312/3231909860.py:18: UserWarning: Glyph 49324 (\\N{HANGUL SYLLABLE SA}) missing from current font.\n",
            "  plt.tight_layout()\n",
            "/tmp/ipykernel_12312/3231909860.py:18: UserWarning: Glyph 50976 (\\N{HANGUL SYLLABLE YU}) missing from current font.\n",
            "  plt.tight_layout()\n",
            "/tmp/ipykernel_12312/3231909860.py:18: UserWarning: Glyph 50857 (\\N{HANGUL SYLLABLE YONG}) missing from current font.\n",
            "  plt.tight_layout()\n",
            "/tmp/ipykernel_12312/3231909860.py:18: UserWarning: Glyph 51473 (\\N{HANGUL SYLLABLE JUNG}) missing from current font.\n",
            "  plt.tight_layout()\n",
            "/tmp/ipykernel_12312/3231909860.py:18: UserWarning: Glyph 51221 (\\N{HANGUL SYLLABLE JEONG}) missing from current font.\n",
            "  plt.tight_layout()\n",
            "/tmp/ipykernel_12312/3231909860.py:18: UserWarning: Glyph 50836 (\\N{HANGUL SYLLABLE YO}) missing from current font.\n",
            "  plt.tight_layout()\n",
            "/tmp/ipykernel_12312/3231909860.py:18: UserWarning: Glyph 44552 (\\N{HANGUL SYLLABLE GEUM}) missing from current font.\n",
            "  plt.tight_layout()\n",
            "/tmp/ipykernel_12312/3231909860.py:18: UserWarning: Glyph 48520 (\\N{HANGUL SYLLABLE BUL}) missing from current font.\n",
            "  plt.tight_layout()\n",
            "/tmp/ipykernel_12312/3231909860.py:18: UserWarning: Glyph 47564 (\\N{HANGUL SYLLABLE MAN}) missing from current font.\n",
            "  plt.tight_layout()\n",
            "/tmp/ipykernel_12312/3231909860.py:18: UserWarning: Glyph 45800 (\\N{HANGUL SYLLABLE DAN}) missing from current font.\n",
            "  plt.tight_layout()\n",
            "/tmp/ipykernel_12312/3231909860.py:18: UserWarning: Glyph 49692 (\\N{HANGUL SYLLABLE SUN}) missing from current font.\n",
            "  plt.tight_layout()\n",
            "/tmp/ipykernel_12312/3231909860.py:18: UserWarning: Glyph 52397 (\\N{HANGUL SYLLABLE CEONG}) missing from current font.\n",
            "  plt.tight_layout()\n",
            "/tmp/ipykernel_12312/3231909860.py:18: UserWarning: Glyph 49436 (\\N{HANGUL SYLLABLE SEO}) missing from current font.\n",
            "  plt.tight_layout()\n",
            "/tmp/ipykernel_12312/3231909860.py:18: UserWarning: Glyph 48708 (\\N{HANGUL SYLLABLE BI}) missing from current font.\n",
            "  plt.tight_layout()\n",
            "/tmp/ipykernel_12312/3231909860.py:18: UserWarning: Glyph 49828 (\\N{HANGUL SYLLABLE SEU}) missing from current font.\n",
            "  plt.tight_layout()\n",
            "/tmp/ipykernel_12312/3231909860.py:18: UserWarning: Glyph 54408 (\\N{HANGUL SYLLABLE PUM}) missing from current font.\n",
            "  plt.tight_layout()\n",
            "/tmp/ipykernel_12312/3231909860.py:18: UserWarning: Glyph 51656 (\\N{HANGUL SYLLABLE JIL}) missing from current font.\n",
            "  plt.tight_layout()\n",
            "/tmp/ipykernel_12312/3231909860.py:18: UserWarning: Glyph 47928 (\\N{HANGUL SYLLABLE MUN}) missing from current font.\n",
            "  plt.tight_layout()\n",
            "/tmp/ipykernel_12312/3231909860.py:18: UserWarning: Glyph 51228 (\\N{HANGUL SYLLABLE JE}) missing from current font.\n",
            "  plt.tight_layout()\n",
            "/tmp/ipykernel_12312/3231909860.py:18: UserWarning: Glyph 51109 (\\N{HANGUL SYLLABLE JANG}) missing from current font.\n",
            "  plt.tight_layout()\n",
            "/tmp/ipykernel_12312/3231909860.py:18: UserWarning: Glyph 44592 (\\N{HANGUL SYLLABLE GI}) missing from current font.\n",
            "  plt.tight_layout()\n",
            "/tmp/ipykernel_12312/3231909860.py:18: UserWarning: Glyph 48120 (\\N{HANGUL SYLLABLE MI}) missing from current font.\n",
            "  plt.tight_layout()\n",
            "/tmp/ipykernel_12312/3231909860.py:18: UserWarning: Glyph 53440 (\\N{HANGUL SYLLABLE TA}) missing from current font.\n",
            "  plt.tight_layout()\n",
            "/tmp/ipykernel_12312/3231909860.py:18: UserWarning: Glyph 47196 (\\N{HANGUL SYLLABLE RO}) missing from current font.\n",
            "  plt.tight_layout()\n",
            "/tmp/ipykernel_12312/3231909860.py:18: UserWarning: Glyph 51060 (\\N{HANGUL SYLLABLE I}) missing from current font.\n",
            "  plt.tight_layout()\n",
            "/tmp/ipykernel_12312/3231909860.py:18: UserWarning: Glyph 46041 (\\N{HANGUL SYLLABLE DONG}) missing from current font.\n",
            "  plt.tight_layout()\n",
            "/tmp/ipykernel_12312/3231909860.py:18: UserWarning: Glyph 51068 (\\N{HANGUL SYLLABLE IL}) missing from current font.\n",
            "  plt.tight_layout()\n",
            "/tmp/ipykernel_12312/3231909860.py:18: UserWarning: Glyph 49884 (\\N{HANGUL SYLLABLE SI}) missing from current font.\n",
            "  plt.tight_layout()\n",
            "/tmp/ipykernel_12312/3231909860.py:18: UserWarning: Glyph 51201 (\\N{HANGUL SYLLABLE JEOG}) missing from current font.\n",
            "  plt.tight_layout()\n",
            "/tmp/ipykernel_12312/3231909860.py:18: UserWarning: Glyph 51064 (\\N{HANGUL SYLLABLE IN}) missing from current font.\n",
            "  plt.tight_layout()\n",
            "/tmp/ipykernel_12312/3231909860.py:18: UserWarning: Glyph 48512 (\\N{HANGUL SYLLABLE BU}) missing from current font.\n",
            "  plt.tight_layout()\n",
            "/tmp/ipykernel_12312/3231909860.py:18: UserWarning: Glyph 45812 (\\N{HANGUL SYLLABLE DAM}) missing from current font.\n",
            "  plt.tight_layout()\n",
            "/tmp/ipykernel_12312/3231909860.py:18: UserWarning: Glyph 50808 (\\N{HANGUL SYLLABLE OE}) missing from current font.\n",
            "  plt.tight_layout()\n",
            "/tmp/ipykernel_12312/3231909860.py:18: UserWarning: Glyph 52636 (\\N{HANGUL SYLLABLE CUL}) missing from current font.\n",
            "  plt.tight_layout()\n",
            "/tmp/ipykernel_12312/3231909860.py:18: UserWarning: Glyph 44032 (\\N{HANGUL SYLLABLE GA}) missing from current font.\n",
            "  plt.tight_layout()\n",
            "/tmp/ipykernel_12312/3231909860.py:18: UserWarning: Glyph 51077 (\\N{HANGUL SYLLABLE IB}) missing from current font.\n",
            "  plt.tight_layout()\n",
            "/tmp/ipykernel_12312/3231909860.py:18: UserWarning: Glyph 51088 (\\N{HANGUL SYLLABLE JA}) missing from current font.\n",
            "  plt.tight_layout()\n",
            "/tmp/ipykernel_12312/3231909860.py:18: UserWarning: Glyph 49688 (\\N{HANGUL SYLLABLE SU}) missing from current font.\n",
            "  plt.tight_layout()\n",
            "/tmp/ipykernel_12312/3231909860.py:18: UserWarning: Glyph 50696 (\\N{HANGUL SYLLABLE YE}) missing from current font.\n",
            "  plt.tight_layout()\n",
            "/tmp/ipykernel_12312/3231909860.py:18: UserWarning: Glyph 52769 (\\N{HANGUL SYLLABLE CEUG}) missing from current font.\n",
            "  plt.tight_layout()\n",
            "/tmp/ipykernel_12312/3231909860.py:18: UserWarning: Glyph 51012 (\\N{HANGUL SYLLABLE EUL}) missing from current font.\n",
            "  plt.tight_layout()\n",
            "/tmp/ipykernel_12312/3231909860.py:18: UserWarning: Glyph 50948 (\\N{HANGUL SYLLABLE WI}) missing from current font.\n",
            "  plt.tight_layout()\n",
            "/tmp/ipykernel_12312/3231909860.py:18: UserWarning: Glyph 54620 (\\N{HANGUL SYLLABLE HAN}) missing from current font.\n",
            "  plt.tight_layout()\n",
            "/tmp/ipykernel_12312/3231909860.py:18: UserWarning: Glyph 44060 (\\N{HANGUL SYLLABLE GAE}) missing from current font.\n",
            "  plt.tight_layout()\n",
            "/tmp/ipykernel_12312/3231909860.py:18: UserWarning: Glyph 48320 (\\N{HANGUL SYLLABLE BYEON}) missing from current font.\n",
            "  plt.tight_layout()\n",
            "/tmp/ipykernel_12312/3231909860.py:18: UserWarning: Glyph 46020 (\\N{HANGUL SYLLABLE DO}) missing from current font.\n",
            "  plt.tight_layout()\n",
            "/home/trusted-service-user/cluster-env/env/lib/python3.10/site-packages/IPython/core/pylabtools.py:152: UserWarning: Glyph 49345 (\\N{HANGUL SYLLABLE SANG}) missing from current font.\n",
            "  fig.canvas.print_figure(bytes_io, **kw)\n",
            "/home/trusted-service-user/cluster-env/env/lib/python3.10/site-packages/IPython/core/pylabtools.py:152: UserWarning: Glyph 53468 (\\N{HANGUL SYLLABLE TAE}) missing from current font.\n",
            "  fig.canvas.print_figure(bytes_io, **kw)\n",
            "/home/trusted-service-user/cluster-env/env/lib/python3.10/site-packages/IPython/core/pylabtools.py:152: UserWarning: Glyph 54644 (\\N{HANGUL SYLLABLE HAE}) missing from current font.\n",
            "  fig.canvas.print_figure(bytes_io, **kw)\n",
            "/home/trusted-service-user/cluster-env/env/lib/python3.10/site-packages/IPython/core/pylabtools.py:152: UserWarning: Glyph 51648 (\\N{HANGUL SYLLABLE JI}) missing from current font.\n",
            "  fig.canvas.print_figure(bytes_io, **kw)\n",
            "/home/trusted-service-user/cluster-env/env/lib/python3.10/site-packages/IPython/core/pylabtools.py:152: UserWarning: Glyph 49324 (\\N{HANGUL SYLLABLE SA}) missing from current font.\n",
            "  fig.canvas.print_figure(bytes_io, **kw)\n",
            "/home/trusted-service-user/cluster-env/env/lib/python3.10/site-packages/IPython/core/pylabtools.py:152: UserWarning: Glyph 50976 (\\N{HANGUL SYLLABLE YU}) missing from current font.\n",
            "  fig.canvas.print_figure(bytes_io, **kw)\n",
            "/home/trusted-service-user/cluster-env/env/lib/python3.10/site-packages/IPython/core/pylabtools.py:152: UserWarning: Glyph 50857 (\\N{HANGUL SYLLABLE YONG}) missing from current font.\n",
            "  fig.canvas.print_figure(bytes_io, **kw)\n",
            "/home/trusted-service-user/cluster-env/env/lib/python3.10/site-packages/IPython/core/pylabtools.py:152: UserWarning: Glyph 51473 (\\N{HANGUL SYLLABLE JUNG}) missing from current font.\n",
            "  fig.canvas.print_figure(bytes_io, **kw)\n",
            "/home/trusted-service-user/cluster-env/env/lib/python3.10/site-packages/IPython/core/pylabtools.py:152: UserWarning: Glyph 51221 (\\N{HANGUL SYLLABLE JEONG}) missing from current font.\n",
            "  fig.canvas.print_figure(bytes_io, **kw)\n",
            "/home/trusted-service-user/cluster-env/env/lib/python3.10/site-packages/IPython/core/pylabtools.py:152: UserWarning: Glyph 50836 (\\N{HANGUL SYLLABLE YO}) missing from current font.\n",
            "  fig.canvas.print_figure(bytes_io, **kw)\n",
            "/home/trusted-service-user/cluster-env/env/lib/python3.10/site-packages/IPython/core/pylabtools.py:152: UserWarning: Glyph 44552 (\\N{HANGUL SYLLABLE GEUM}) missing from current font.\n",
            "  fig.canvas.print_figure(bytes_io, **kw)\n",
            "/home/trusted-service-user/cluster-env/env/lib/python3.10/site-packages/IPython/core/pylabtools.py:152: UserWarning: Glyph 48520 (\\N{HANGUL SYLLABLE BUL}) missing from current font.\n",
            "  fig.canvas.print_figure(bytes_io, **kw)\n",
            "/home/trusted-service-user/cluster-env/env/lib/python3.10/site-packages/IPython/core/pylabtools.py:152: UserWarning: Glyph 47564 (\\N{HANGUL SYLLABLE MAN}) missing from current font.\n",
            "  fig.canvas.print_figure(bytes_io, **kw)\n",
            "/home/trusted-service-user/cluster-env/env/lib/python3.10/site-packages/IPython/core/pylabtools.py:152: UserWarning: Glyph 45800 (\\N{HANGUL SYLLABLE DAN}) missing from current font.\n",
            "  fig.canvas.print_figure(bytes_io, **kw)\n",
            "/home/trusted-service-user/cluster-env/env/lib/python3.10/site-packages/IPython/core/pylabtools.py:152: UserWarning: Glyph 49692 (\\N{HANGUL SYLLABLE SUN}) missing from current font.\n",
            "  fig.canvas.print_figure(bytes_io, **kw)\n",
            "/home/trusted-service-user/cluster-env/env/lib/python3.10/site-packages/IPython/core/pylabtools.py:152: UserWarning: Glyph 52397 (\\N{HANGUL SYLLABLE CEONG}) missing from current font.\n",
            "  fig.canvas.print_figure(bytes_io, **kw)\n",
            "/home/trusted-service-user/cluster-env/env/lib/python3.10/site-packages/IPython/core/pylabtools.py:152: UserWarning: Glyph 49436 (\\N{HANGUL SYLLABLE SEO}) missing from current font.\n",
            "  fig.canvas.print_figure(bytes_io, **kw)\n",
            "/home/trusted-service-user/cluster-env/env/lib/python3.10/site-packages/IPython/core/pylabtools.py:152: UserWarning: Glyph 48708 (\\N{HANGUL SYLLABLE BI}) missing from current font.\n",
            "  fig.canvas.print_figure(bytes_io, **kw)\n",
            "/home/trusted-service-user/cluster-env/env/lib/python3.10/site-packages/IPython/core/pylabtools.py:152: UserWarning: Glyph 49828 (\\N{HANGUL SYLLABLE SEU}) missing from current font.\n",
            "  fig.canvas.print_figure(bytes_io, **kw)\n",
            "/home/trusted-service-user/cluster-env/env/lib/python3.10/site-packages/IPython/core/pylabtools.py:152: UserWarning: Glyph 54408 (\\N{HANGUL SYLLABLE PUM}) missing from current font.\n",
            "  fig.canvas.print_figure(bytes_io, **kw)\n",
            "/home/trusted-service-user/cluster-env/env/lib/python3.10/site-packages/IPython/core/pylabtools.py:152: UserWarning: Glyph 51656 (\\N{HANGUL SYLLABLE JIL}) missing from current font.\n",
            "  fig.canvas.print_figure(bytes_io, **kw)\n",
            "/home/trusted-service-user/cluster-env/env/lib/python3.10/site-packages/IPython/core/pylabtools.py:152: UserWarning: Glyph 47928 (\\N{HANGUL SYLLABLE MUN}) missing from current font.\n",
            "  fig.canvas.print_figure(bytes_io, **kw)\n",
            "/home/trusted-service-user/cluster-env/env/lib/python3.10/site-packages/IPython/core/pylabtools.py:152: UserWarning: Glyph 51228 (\\N{HANGUL SYLLABLE JE}) missing from current font.\n",
            "  fig.canvas.print_figure(bytes_io, **kw)\n",
            "/home/trusted-service-user/cluster-env/env/lib/python3.10/site-packages/IPython/core/pylabtools.py:152: UserWarning: Glyph 51109 (\\N{HANGUL SYLLABLE JANG}) missing from current font.\n",
            "  fig.canvas.print_figure(bytes_io, **kw)\n",
            "/home/trusted-service-user/cluster-env/env/lib/python3.10/site-packages/IPython/core/pylabtools.py:152: UserWarning: Glyph 44592 (\\N{HANGUL SYLLABLE GI}) missing from current font.\n",
            "  fig.canvas.print_figure(bytes_io, **kw)\n",
            "/home/trusted-service-user/cluster-env/env/lib/python3.10/site-packages/IPython/core/pylabtools.py:152: UserWarning: Glyph 48120 (\\N{HANGUL SYLLABLE MI}) missing from current font.\n",
            "  fig.canvas.print_figure(bytes_io, **kw)\n",
            "/home/trusted-service-user/cluster-env/env/lib/python3.10/site-packages/IPython/core/pylabtools.py:152: UserWarning: Glyph 53440 (\\N{HANGUL SYLLABLE TA}) missing from current font.\n",
            "  fig.canvas.print_figure(bytes_io, **kw)\n",
            "/home/trusted-service-user/cluster-env/env/lib/python3.10/site-packages/IPython/core/pylabtools.py:152: UserWarning: Glyph 47196 (\\N{HANGUL SYLLABLE RO}) missing from current font.\n",
            "  fig.canvas.print_figure(bytes_io, **kw)\n",
            "/home/trusted-service-user/cluster-env/env/lib/python3.10/site-packages/IPython/core/pylabtools.py:152: UserWarning: Glyph 51060 (\\N{HANGUL SYLLABLE I}) missing from current font.\n",
            "  fig.canvas.print_figure(bytes_io, **kw)\n",
            "/home/trusted-service-user/cluster-env/env/lib/python3.10/site-packages/IPython/core/pylabtools.py:152: UserWarning: Glyph 46041 (\\N{HANGUL SYLLABLE DONG}) missing from current font.\n",
            "  fig.canvas.print_figure(bytes_io, **kw)\n",
            "/home/trusted-service-user/cluster-env/env/lib/python3.10/site-packages/IPython/core/pylabtools.py:152: UserWarning: Glyph 51068 (\\N{HANGUL SYLLABLE IL}) missing from current font.\n",
            "  fig.canvas.print_figure(bytes_io, **kw)\n",
            "/home/trusted-service-user/cluster-env/env/lib/python3.10/site-packages/IPython/core/pylabtools.py:152: UserWarning: Glyph 49884 (\\N{HANGUL SYLLABLE SI}) missing from current font.\n",
            "  fig.canvas.print_figure(bytes_io, **kw)\n",
            "/home/trusted-service-user/cluster-env/env/lib/python3.10/site-packages/IPython/core/pylabtools.py:152: UserWarning: Glyph 51201 (\\N{HANGUL SYLLABLE JEOG}) missing from current font.\n",
            "  fig.canvas.print_figure(bytes_io, **kw)\n",
            "/home/trusted-service-user/cluster-env/env/lib/python3.10/site-packages/IPython/core/pylabtools.py:152: UserWarning: Glyph 51064 (\\N{HANGUL SYLLABLE IN}) missing from current font.\n",
            "  fig.canvas.print_figure(bytes_io, **kw)\n",
            "/home/trusted-service-user/cluster-env/env/lib/python3.10/site-packages/IPython/core/pylabtools.py:152: UserWarning: Glyph 48512 (\\N{HANGUL SYLLABLE BU}) missing from current font.\n",
            "  fig.canvas.print_figure(bytes_io, **kw)\n",
            "/home/trusted-service-user/cluster-env/env/lib/python3.10/site-packages/IPython/core/pylabtools.py:152: UserWarning: Glyph 45812 (\\N{HANGUL SYLLABLE DAM}) missing from current font.\n",
            "  fig.canvas.print_figure(bytes_io, **kw)\n",
            "/home/trusted-service-user/cluster-env/env/lib/python3.10/site-packages/IPython/core/pylabtools.py:152: UserWarning: Glyph 50808 (\\N{HANGUL SYLLABLE OE}) missing from current font.\n",
            "  fig.canvas.print_figure(bytes_io, **kw)\n",
            "/home/trusted-service-user/cluster-env/env/lib/python3.10/site-packages/IPython/core/pylabtools.py:152: UserWarning: Glyph 52636 (\\N{HANGUL SYLLABLE CUL}) missing from current font.\n",
            "  fig.canvas.print_figure(bytes_io, **kw)\n",
            "/home/trusted-service-user/cluster-env/env/lib/python3.10/site-packages/IPython/core/pylabtools.py:152: UserWarning: Glyph 44032 (\\N{HANGUL SYLLABLE GA}) missing from current font.\n",
            "  fig.canvas.print_figure(bytes_io, **kw)\n",
            "/home/trusted-service-user/cluster-env/env/lib/python3.10/site-packages/IPython/core/pylabtools.py:152: UserWarning: Glyph 51077 (\\N{HANGUL SYLLABLE IB}) missing from current font.\n",
            "  fig.canvas.print_figure(bytes_io, **kw)\n",
            "/home/trusted-service-user/cluster-env/env/lib/python3.10/site-packages/IPython/core/pylabtools.py:152: UserWarning: Glyph 51088 (\\N{HANGUL SYLLABLE JA}) missing from current font.\n",
            "  fig.canvas.print_figure(bytes_io, **kw)\n",
            "/home/trusted-service-user/cluster-env/env/lib/python3.10/site-packages/IPython/core/pylabtools.py:152: UserWarning: Glyph 49688 (\\N{HANGUL SYLLABLE SU}) missing from current font.\n",
            "  fig.canvas.print_figure(bytes_io, **kw)\n",
            "/home/trusted-service-user/cluster-env/env/lib/python3.10/site-packages/IPython/core/pylabtools.py:152: UserWarning: Glyph 50696 (\\N{HANGUL SYLLABLE YE}) missing from current font.\n",
            "  fig.canvas.print_figure(bytes_io, **kw)\n",
            "/home/trusted-service-user/cluster-env/env/lib/python3.10/site-packages/IPython/core/pylabtools.py:152: UserWarning: Glyph 52769 (\\N{HANGUL SYLLABLE CEUG}) missing from current font.\n",
            "  fig.canvas.print_figure(bytes_io, **kw)\n",
            "/home/trusted-service-user/cluster-env/env/lib/python3.10/site-packages/IPython/core/pylabtools.py:152: UserWarning: Glyph 51012 (\\N{HANGUL SYLLABLE EUL}) missing from current font.\n",
            "  fig.canvas.print_figure(bytes_io, **kw)\n",
            "/home/trusted-service-user/cluster-env/env/lib/python3.10/site-packages/IPython/core/pylabtools.py:152: UserWarning: Glyph 50948 (\\N{HANGUL SYLLABLE WI}) missing from current font.\n",
            "  fig.canvas.print_figure(bytes_io, **kw)\n",
            "/home/trusted-service-user/cluster-env/env/lib/python3.10/site-packages/IPython/core/pylabtools.py:152: UserWarning: Glyph 54620 (\\N{HANGUL SYLLABLE HAN}) missing from current font.\n",
            "  fig.canvas.print_figure(bytes_io, **kw)\n",
            "/home/trusted-service-user/cluster-env/env/lib/python3.10/site-packages/IPython/core/pylabtools.py:152: UserWarning: Glyph 44060 (\\N{HANGUL SYLLABLE GAE}) missing from current font.\n",
            "  fig.canvas.print_figure(bytes_io, **kw)\n",
            "/home/trusted-service-user/cluster-env/env/lib/python3.10/site-packages/IPython/core/pylabtools.py:152: UserWarning: Glyph 48320 (\\N{HANGUL SYLLABLE BYEON}) missing from current font.\n",
            "  fig.canvas.print_figure(bytes_io, **kw)\n",
            "/home/trusted-service-user/cluster-env/env/lib/python3.10/site-packages/IPython/core/pylabtools.py:152: UserWarning: Glyph 46020 (\\N{HANGUL SYLLABLE DO}) missing from current font.\n",
            "  fig.canvas.print_figure(bytes_io, **kw)\n"
          ]
        },
        {
          "data": {
            "image/png": "[encoded data removed]",
            "text/plain": [
              "<Figure size 800x500 with 1 Axes>"
            ]
          },
          "metadata": {},
          "output_type": "display_data"
        }
      ],
      "source": [
        "# 7. 예측 및 평가\n",
        "from sklearn.metrics import classification_report\n",
        "\n",
        "y_pred = model.predict(X_test)\n",
        "print(classification_report(y_test, y_pred))"
      ]
    },
    {
      "cell_type": "code",
      "execution_count": 13,
      "metadata": {
        "gather": {
          "logged": 1750142896064
        },
        "jupyter": {
          "outputs_hidden": true
        }
      },
      "outputs": [
        {
          "data": {
            "application/vnd.livy.statement-meta+json": {
              "execution_finish_time": "2025-06-17T06:48:15.6397214Z",
              "execution_start_time": "2025-06-17T06:48:14.9139356Z",
              "livy_statement_state": "available",
              "normalized_state": "finished",
              "parent_msg_id": "e74c8a48-28af-4765-bc2d-38c0f97372de",
              "queued_time": "2025-06-17T06:48:14.9128021Z",
              "session_id": "2",
              "session_start_time": null,
              "spark_jobs": {
                "jobs": [],
                "limit": 20,
                "numbers": {
                  "FAILED": 0,
                  "RUNNING": 0,
                  "SUCCEEDED": 0,
                  "UNKNOWN": 0
                },
                "rule": "ALL_DESC"
              },
              "spark_pool": "5f59bc06-b850-41e5-9556-b74696325aeb",
              "state": "finished",
              "statement_id": 18,
              "statement_ids": [
                18
              ]
            },
            "text/plain": [
              "StatementMeta(5f59bc06-b850-41e5-9556-b74696325aeb, 2, 18, Finished, Available, Finished)"
            ]
          },
          "metadata": {},
          "output_type": "display_data"
        },
        {
          "name": "stderr",
          "output_type": "stream",
          "text": [
            "/tmp/ipykernel_12312/2992658898.py:15: UserWarning: Glyph 49345 (\\N{HANGUL SYLLABLE SANG}) missing from current font.\n",
            "  plt.tight_layout()\n",
            "/tmp/ipykernel_12312/2992658898.py:15: UserWarning: Glyph 53468 (\\N{HANGUL SYLLABLE TAE}) missing from current font.\n",
            "  plt.tight_layout()\n",
            "/tmp/ipykernel_12312/2992658898.py:15: UserWarning: Glyph 54644 (\\N{HANGUL SYLLABLE HAE}) missing from current font.\n",
            "  plt.tight_layout()\n",
            "/tmp/ipykernel_12312/2992658898.py:15: UserWarning: Glyph 51648 (\\N{HANGUL SYLLABLE JI}) missing from current font.\n",
            "  plt.tight_layout()\n",
            "/tmp/ipykernel_12312/2992658898.py:15: UserWarning: Glyph 49324 (\\N{HANGUL SYLLABLE SA}) missing from current font.\n",
            "  plt.tight_layout()\n",
            "/tmp/ipykernel_12312/2992658898.py:15: UserWarning: Glyph 50976 (\\N{HANGUL SYLLABLE YU}) missing from current font.\n",
            "  plt.tight_layout()\n",
            "/tmp/ipykernel_12312/2992658898.py:15: UserWarning: Glyph 50857 (\\N{HANGUL SYLLABLE YONG}) missing from current font.\n",
            "  plt.tight_layout()\n",
            "/tmp/ipykernel_12312/2992658898.py:15: UserWarning: Glyph 51473 (\\N{HANGUL SYLLABLE JUNG}) missing from current font.\n",
            "  plt.tight_layout()\n",
            "/tmp/ipykernel_12312/2992658898.py:15: UserWarning: Glyph 51221 (\\N{HANGUL SYLLABLE JEONG}) missing from current font.\n",
            "  plt.tight_layout()\n",
            "/tmp/ipykernel_12312/2992658898.py:15: UserWarning: Glyph 50836 (\\N{HANGUL SYLLABLE YO}) missing from current font.\n",
            "  plt.tight_layout()\n",
            "/tmp/ipykernel_12312/2992658898.py:15: UserWarning: Glyph 44552 (\\N{HANGUL SYLLABLE GEUM}) missing from current font.\n",
            "  plt.tight_layout()\n",
            "/tmp/ipykernel_12312/2992658898.py:15: UserWarning: Glyph 48520 (\\N{HANGUL SYLLABLE BUL}) missing from current font.\n",
            "  plt.tight_layout()\n",
            "/tmp/ipykernel_12312/2992658898.py:15: UserWarning: Glyph 47564 (\\N{HANGUL SYLLABLE MAN}) missing from current font.\n",
            "  plt.tight_layout()\n",
            "/tmp/ipykernel_12312/2992658898.py:15: UserWarning: Glyph 45800 (\\N{HANGUL SYLLABLE DAN}) missing from current font.\n",
            "  plt.tight_layout()\n",
            "/tmp/ipykernel_12312/2992658898.py:15: UserWarning: Glyph 49692 (\\N{HANGUL SYLLABLE SUN}) missing from current font.\n",
            "  plt.tight_layout()\n",
            "/tmp/ipykernel_12312/2992658898.py:15: UserWarning: Glyph 52397 (\\N{HANGUL SYLLABLE CEONG}) missing from current font.\n",
            "  plt.tight_layout()\n",
            "/tmp/ipykernel_12312/2992658898.py:15: UserWarning: Glyph 49436 (\\N{HANGUL SYLLABLE SEO}) missing from current font.\n",
            "  plt.tight_layout()\n",
            "/tmp/ipykernel_12312/2992658898.py:15: UserWarning: Glyph 48708 (\\N{HANGUL SYLLABLE BI}) missing from current font.\n",
            "  plt.tight_layout()\n",
            "/tmp/ipykernel_12312/2992658898.py:15: UserWarning: Glyph 49828 (\\N{HANGUL SYLLABLE SEU}) missing from current font.\n",
            "  plt.tight_layout()\n",
            "/tmp/ipykernel_12312/2992658898.py:15: UserWarning: Glyph 54408 (\\N{HANGUL SYLLABLE PUM}) missing from current font.\n",
            "  plt.tight_layout()\n",
            "/tmp/ipykernel_12312/2992658898.py:15: UserWarning: Glyph 51656 (\\N{HANGUL SYLLABLE JIL}) missing from current font.\n",
            "  plt.tight_layout()\n",
            "/tmp/ipykernel_12312/2992658898.py:15: UserWarning: Glyph 47928 (\\N{HANGUL SYLLABLE MUN}) missing from current font.\n",
            "  plt.tight_layout()\n",
            "/tmp/ipykernel_12312/2992658898.py:15: UserWarning: Glyph 51228 (\\N{HANGUL SYLLABLE JE}) missing from current font.\n",
            "  plt.tight_layout()\n",
            "/tmp/ipykernel_12312/2992658898.py:15: UserWarning: Glyph 51109 (\\N{HANGUL SYLLABLE JANG}) missing from current font.\n",
            "  plt.tight_layout()\n",
            "/tmp/ipykernel_12312/2992658898.py:15: UserWarning: Glyph 44592 (\\N{HANGUL SYLLABLE GI}) missing from current font.\n",
            "  plt.tight_layout()\n",
            "/tmp/ipykernel_12312/2992658898.py:15: UserWarning: Glyph 48120 (\\N{HANGUL SYLLABLE MI}) missing from current font.\n",
            "  plt.tight_layout()\n",
            "/tmp/ipykernel_12312/2992658898.py:15: UserWarning: Glyph 53440 (\\N{HANGUL SYLLABLE TA}) missing from current font.\n",
            "  plt.tight_layout()\n",
            "/tmp/ipykernel_12312/2992658898.py:15: UserWarning: Glyph 47196 (\\N{HANGUL SYLLABLE RO}) missing from current font.\n",
            "  plt.tight_layout()\n",
            "/tmp/ipykernel_12312/2992658898.py:15: UserWarning: Glyph 51060 (\\N{HANGUL SYLLABLE I}) missing from current font.\n",
            "  plt.tight_layout()\n",
            "/tmp/ipykernel_12312/2992658898.py:15: UserWarning: Glyph 46041 (\\N{HANGUL SYLLABLE DONG}) missing from current font.\n",
            "  plt.tight_layout()\n",
            "/tmp/ipykernel_12312/2992658898.py:15: UserWarning: Glyph 51068 (\\N{HANGUL SYLLABLE IL}) missing from current font.\n",
            "  plt.tight_layout()\n",
            "/tmp/ipykernel_12312/2992658898.py:15: UserWarning: Glyph 49884 (\\N{HANGUL SYLLABLE SI}) missing from current font.\n",
            "  plt.tight_layout()\n",
            "/tmp/ipykernel_12312/2992658898.py:15: UserWarning: Glyph 51201 (\\N{HANGUL SYLLABLE JEOG}) missing from current font.\n",
            "  plt.tight_layout()\n",
            "/tmp/ipykernel_12312/2992658898.py:15: UserWarning: Glyph 51064 (\\N{HANGUL SYLLABLE IN}) missing from current font.\n",
            "  plt.tight_layout()\n",
            "/tmp/ipykernel_12312/2992658898.py:15: UserWarning: Glyph 48512 (\\N{HANGUL SYLLABLE BU}) missing from current font.\n",
            "  plt.tight_layout()\n",
            "/tmp/ipykernel_12312/2992658898.py:15: UserWarning: Glyph 45812 (\\N{HANGUL SYLLABLE DAM}) missing from current font.\n",
            "  plt.tight_layout()\n",
            "/tmp/ipykernel_12312/2992658898.py:15: UserWarning: Glyph 50808 (\\N{HANGUL SYLLABLE OE}) missing from current font.\n",
            "  plt.tight_layout()\n",
            "/tmp/ipykernel_12312/2992658898.py:15: UserWarning: Glyph 52636 (\\N{HANGUL SYLLABLE CUL}) missing from current font.\n",
            "  plt.tight_layout()\n",
            "/tmp/ipykernel_12312/2992658898.py:15: UserWarning: Glyph 44032 (\\N{HANGUL SYLLABLE GA}) missing from current font.\n",
            "  plt.tight_layout()\n",
            "/tmp/ipykernel_12312/2992658898.py:15: UserWarning: Glyph 51077 (\\N{HANGUL SYLLABLE IB}) missing from current font.\n",
            "  plt.tight_layout()\n",
            "/tmp/ipykernel_12312/2992658898.py:15: UserWarning: Glyph 51088 (\\N{HANGUL SYLLABLE JA}) missing from current font.\n",
            "  plt.tight_layout()\n",
            "/tmp/ipykernel_12312/2992658898.py:15: UserWarning: Glyph 49688 (\\N{HANGUL SYLLABLE SU}) missing from current font.\n",
            "  plt.tight_layout()\n",
            "/tmp/ipykernel_12312/2992658898.py:15: UserWarning: Glyph 50696 (\\N{HANGUL SYLLABLE YE}) missing from current font.\n",
            "  plt.tight_layout()\n",
            "/tmp/ipykernel_12312/2992658898.py:15: UserWarning: Glyph 52769 (\\N{HANGUL SYLLABLE CEUG}) missing from current font.\n",
            "  plt.tight_layout()\n",
            "/tmp/ipykernel_12312/2992658898.py:15: UserWarning: Glyph 51012 (\\N{HANGUL SYLLABLE EUL}) missing from current font.\n",
            "  plt.tight_layout()\n",
            "/tmp/ipykernel_12312/2992658898.py:15: UserWarning: Glyph 50948 (\\N{HANGUL SYLLABLE WI}) missing from current font.\n",
            "  plt.tight_layout()\n",
            "/tmp/ipykernel_12312/2992658898.py:15: UserWarning: Glyph 54620 (\\N{HANGUL SYLLABLE HAN}) missing from current font.\n",
            "  plt.tight_layout()\n",
            "/tmp/ipykernel_12312/2992658898.py:15: UserWarning: Glyph 44060 (\\N{HANGUL SYLLABLE GAE}) missing from current font.\n",
            "  plt.tight_layout()\n",
            "/tmp/ipykernel_12312/2992658898.py:15: UserWarning: Glyph 48320 (\\N{HANGUL SYLLABLE BYEON}) missing from current font.\n",
            "  plt.tight_layout()\n",
            "/tmp/ipykernel_12312/2992658898.py:15: UserWarning: Glyph 46020 (\\N{HANGUL SYLLABLE DO}) missing from current font.\n",
            "  plt.tight_layout()\n",
            "/home/trusted-service-user/cluster-env/env/lib/python3.10/site-packages/IPython/core/pylabtools.py:152: UserWarning: Glyph 49345 (\\N{HANGUL SYLLABLE SANG}) missing from current font.\n",
            "  fig.canvas.print_figure(bytes_io, **kw)\n",
            "/home/trusted-service-user/cluster-env/env/lib/python3.10/site-packages/IPython/core/pylabtools.py:152: UserWarning: Glyph 53468 (\\N{HANGUL SYLLABLE TAE}) missing from current font.\n",
            "  fig.canvas.print_figure(bytes_io, **kw)\n",
            "/home/trusted-service-user/cluster-env/env/lib/python3.10/site-packages/IPython/core/pylabtools.py:152: UserWarning: Glyph 54644 (\\N{HANGUL SYLLABLE HAE}) missing from current font.\n",
            "  fig.canvas.print_figure(bytes_io, **kw)\n",
            "/home/trusted-service-user/cluster-env/env/lib/python3.10/site-packages/IPython/core/pylabtools.py:152: UserWarning: Glyph 51648 (\\N{HANGUL SYLLABLE JI}) missing from current font.\n",
            "  fig.canvas.print_figure(bytes_io, **kw)\n",
            "/home/trusted-service-user/cluster-env/env/lib/python3.10/site-packages/IPython/core/pylabtools.py:152: UserWarning: Glyph 49324 (\\N{HANGUL SYLLABLE SA}) missing from current font.\n",
            "  fig.canvas.print_figure(bytes_io, **kw)\n",
            "/home/trusted-service-user/cluster-env/env/lib/python3.10/site-packages/IPython/core/pylabtools.py:152: UserWarning: Glyph 50976 (\\N{HANGUL SYLLABLE YU}) missing from current font.\n",
            "  fig.canvas.print_figure(bytes_io, **kw)\n",
            "/home/trusted-service-user/cluster-env/env/lib/python3.10/site-packages/IPython/core/pylabtools.py:152: UserWarning: Glyph 50857 (\\N{HANGUL SYLLABLE YONG}) missing from current font.\n",
            "  fig.canvas.print_figure(bytes_io, **kw)\n",
            "/home/trusted-service-user/cluster-env/env/lib/python3.10/site-packages/IPython/core/pylabtools.py:152: UserWarning: Glyph 51473 (\\N{HANGUL SYLLABLE JUNG}) missing from current font.\n",
            "  fig.canvas.print_figure(bytes_io, **kw)\n",
            "/home/trusted-service-user/cluster-env/env/lib/python3.10/site-packages/IPython/core/pylabtools.py:152: UserWarning: Glyph 51221 (\\N{HANGUL SYLLABLE JEONG}) missing from current font.\n",
            "  fig.canvas.print_figure(bytes_io, **kw)\n",
            "/home/trusted-service-user/cluster-env/env/lib/python3.10/site-packages/IPython/core/pylabtools.py:152: UserWarning: Glyph 50836 (\\N{HANGUL SYLLABLE YO}) missing from current font.\n",
            "  fig.canvas.print_figure(bytes_io, **kw)\n",
            "/home/trusted-service-user/cluster-env/env/lib/python3.10/site-packages/IPython/core/pylabtools.py:152: UserWarning: Glyph 44552 (\\N{HANGUL SYLLABLE GEUM}) missing from current font.\n",
            "  fig.canvas.print_figure(bytes_io, **kw)\n",
            "/home/trusted-service-user/cluster-env/env/lib/python3.10/site-packages/IPython/core/pylabtools.py:152: UserWarning: Glyph 48520 (\\N{HANGUL SYLLABLE BUL}) missing from current font.\n",
            "  fig.canvas.print_figure(bytes_io, **kw)\n",
            "/home/trusted-service-user/cluster-env/env/lib/python3.10/site-packages/IPython/core/pylabtools.py:152: UserWarning: Glyph 47564 (\\N{HANGUL SYLLABLE MAN}) missing from current font.\n",
            "  fig.canvas.print_figure(bytes_io, **kw)\n",
            "/home/trusted-service-user/cluster-env/env/lib/python3.10/site-packages/IPython/core/pylabtools.py:152: UserWarning: Glyph 45800 (\\N{HANGUL SYLLABLE DAN}) missing from current font.\n",
            "  fig.canvas.print_figure(bytes_io, **kw)\n",
            "/home/trusted-service-user/cluster-env/env/lib/python3.10/site-packages/IPython/core/pylabtools.py:152: UserWarning: Glyph 49692 (\\N{HANGUL SYLLABLE SUN}) missing from current font.\n",
            "  fig.canvas.print_figure(bytes_io, **kw)\n",
            "/home/trusted-service-user/cluster-env/env/lib/python3.10/site-packages/IPython/core/pylabtools.py:152: UserWarning: Glyph 52397 (\\N{HANGUL SYLLABLE CEONG}) missing from current font.\n",
            "  fig.canvas.print_figure(bytes_io, **kw)\n",
            "/home/trusted-service-user/cluster-env/env/lib/python3.10/site-packages/IPython/core/pylabtools.py:152: UserWarning: Glyph 49436 (\\N{HANGUL SYLLABLE SEO}) missing from current font.\n",
            "  fig.canvas.print_figure(bytes_io, **kw)\n",
            "/home/trusted-service-user/cluster-env/env/lib/python3.10/site-packages/IPython/core/pylabtools.py:152: UserWarning: Glyph 48708 (\\N{HANGUL SYLLABLE BI}) missing from current font.\n",
            "  fig.canvas.print_figure(bytes_io, **kw)\n",
            "/home/trusted-service-user/cluster-env/env/lib/python3.10/site-packages/IPython/core/pylabtools.py:152: UserWarning: Glyph 49828 (\\N{HANGUL SYLLABLE SEU}) missing from current font.\n",
            "  fig.canvas.print_figure(bytes_io, **kw)\n",
            "/home/trusted-service-user/cluster-env/env/lib/python3.10/site-packages/IPython/core/pylabtools.py:152: UserWarning: Glyph 54408 (\\N{HANGUL SYLLABLE PUM}) missing from current font.\n",
            "  fig.canvas.print_figure(bytes_io, **kw)\n",
            "/home/trusted-service-user/cluster-env/env/lib/python3.10/site-packages/IPython/core/pylabtools.py:152: UserWarning: Glyph 51656 (\\N{HANGUL SYLLABLE JIL}) missing from current font.\n",
            "  fig.canvas.print_figure(bytes_io, **kw)\n",
            "/home/trusted-service-user/cluster-env/env/lib/python3.10/site-packages/IPython/core/pylabtools.py:152: UserWarning: Glyph 47928 (\\N{HANGUL SYLLABLE MUN}) missing from current font.\n",
            "  fig.canvas.print_figure(bytes_io, **kw)\n",
            "/home/trusted-service-user/cluster-env/env/lib/python3.10/site-packages/IPython/core/pylabtools.py:152: UserWarning: Glyph 51228 (\\N{HANGUL SYLLABLE JE}) missing from current font.\n",
            "  fig.canvas.print_figure(bytes_io, **kw)\n",
            "/home/trusted-service-user/cluster-env/env/lib/python3.10/site-packages/IPython/core/pylabtools.py:152: UserWarning: Glyph 51109 (\\N{HANGUL SYLLABLE JANG}) missing from current font.\n",
            "  fig.canvas.print_figure(bytes_io, **kw)\n",
            "/home/trusted-service-user/cluster-env/env/lib/python3.10/site-packages/IPython/core/pylabtools.py:152: UserWarning: Glyph 44592 (\\N{HANGUL SYLLABLE GI}) missing from current font.\n",
            "  fig.canvas.print_figure(bytes_io, **kw)\n",
            "/home/trusted-service-user/cluster-env/env/lib/python3.10/site-packages/IPython/core/pylabtools.py:152: UserWarning: Glyph 48120 (\\N{HANGUL SYLLABLE MI}) missing from current font.\n",
            "  fig.canvas.print_figure(bytes_io, **kw)\n",
            "/home/trusted-service-user/cluster-env/env/lib/python3.10/site-packages/IPython/core/pylabtools.py:152: UserWarning: Glyph 53440 (\\N{HANGUL SYLLABLE TA}) missing from current font.\n",
            "  fig.canvas.print_figure(bytes_io, **kw)\n",
            "/home/trusted-service-user/cluster-env/env/lib/python3.10/site-packages/IPython/core/pylabtools.py:152: UserWarning: Glyph 47196 (\\N{HANGUL SYLLABLE RO}) missing from current font.\n",
            "  fig.canvas.print_figure(bytes_io, **kw)\n",
            "/home/trusted-service-user/cluster-env/env/lib/python3.10/site-packages/IPython/core/pylabtools.py:152: UserWarning: Glyph 51060 (\\N{HANGUL SYLLABLE I}) missing from current font.\n",
            "  fig.canvas.print_figure(bytes_io, **kw)\n",
            "/home/trusted-service-user/cluster-env/env/lib/python3.10/site-packages/IPython/core/pylabtools.py:152: UserWarning: Glyph 46041 (\\N{HANGUL SYLLABLE DONG}) missing from current font.\n",
            "  fig.canvas.print_figure(bytes_io, **kw)\n",
            "/home/trusted-service-user/cluster-env/env/lib/python3.10/site-packages/IPython/core/pylabtools.py:152: UserWarning: Glyph 51068 (\\N{HANGUL SYLLABLE IL}) missing from current font.\n",
            "  fig.canvas.print_figure(bytes_io, **kw)\n",
            "/home/trusted-service-user/cluster-env/env/lib/python3.10/site-packages/IPython/core/pylabtools.py:152: UserWarning: Glyph 49884 (\\N{HANGUL SYLLABLE SI}) missing from current font.\n",
            "  fig.canvas.print_figure(bytes_io, **kw)\n",
            "/home/trusted-service-user/cluster-env/env/lib/python3.10/site-packages/IPython/core/pylabtools.py:152: UserWarning: Glyph 51201 (\\N{HANGUL SYLLABLE JEOG}) missing from current font.\n",
            "  fig.canvas.print_figure(bytes_io, **kw)\n",
            "/home/trusted-service-user/cluster-env/env/lib/python3.10/site-packages/IPython/core/pylabtools.py:152: UserWarning: Glyph 51064 (\\N{HANGUL SYLLABLE IN}) missing from current font.\n",
            "  fig.canvas.print_figure(bytes_io, **kw)\n",
            "/home/trusted-service-user/cluster-env/env/lib/python3.10/site-packages/IPython/core/pylabtools.py:152: UserWarning: Glyph 48512 (\\N{HANGUL SYLLABLE BU}) missing from current font.\n",
            "  fig.canvas.print_figure(bytes_io, **kw)\n",
            "/home/trusted-service-user/cluster-env/env/lib/python3.10/site-packages/IPython/core/pylabtools.py:152: UserWarning: Glyph 45812 (\\N{HANGUL SYLLABLE DAM}) missing from current font.\n",
            "  fig.canvas.print_figure(bytes_io, **kw)\n",
            "/home/trusted-service-user/cluster-env/env/lib/python3.10/site-packages/IPython/core/pylabtools.py:152: UserWarning: Glyph 50808 (\\N{HANGUL SYLLABLE OE}) missing from current font.\n",
            "  fig.canvas.print_figure(bytes_io, **kw)\n",
            "/home/trusted-service-user/cluster-env/env/lib/python3.10/site-packages/IPython/core/pylabtools.py:152: UserWarning: Glyph 52636 (\\N{HANGUL SYLLABLE CUL}) missing from current font.\n",
            "  fig.canvas.print_figure(bytes_io, **kw)\n",
            "/home/trusted-service-user/cluster-env/env/lib/python3.10/site-packages/IPython/core/pylabtools.py:152: UserWarning: Glyph 44032 (\\N{HANGUL SYLLABLE GA}) missing from current font.\n",
            "  fig.canvas.print_figure(bytes_io, **kw)\n",
            "/home/trusted-service-user/cluster-env/env/lib/python3.10/site-packages/IPython/core/pylabtools.py:152: UserWarning: Glyph 51077 (\\N{HANGUL SYLLABLE IB}) missing from current font.\n",
            "  fig.canvas.print_figure(bytes_io, **kw)\n",
            "/home/trusted-service-user/cluster-env/env/lib/python3.10/site-packages/IPython/core/pylabtools.py:152: UserWarning: Glyph 51088 (\\N{HANGUL SYLLABLE JA}) missing from current font.\n",
            "  fig.canvas.print_figure(bytes_io, **kw)\n",
            "/home/trusted-service-user/cluster-env/env/lib/python3.10/site-packages/IPython/core/pylabtools.py:152: UserWarning: Glyph 49688 (\\N{HANGUL SYLLABLE SU}) missing from current font.\n",
            "  fig.canvas.print_figure(bytes_io, **kw)\n",
            "/home/trusted-service-user/cluster-env/env/lib/python3.10/site-packages/IPython/core/pylabtools.py:152: UserWarning: Glyph 50696 (\\N{HANGUL SYLLABLE YE}) missing from current font.\n",
            "  fig.canvas.print_figure(bytes_io, **kw)\n",
            "/home/trusted-service-user/cluster-env/env/lib/python3.10/site-packages/IPython/core/pylabtools.py:152: UserWarning: Glyph 52769 (\\N{HANGUL SYLLABLE CEUG}) missing from current font.\n",
            "  fig.canvas.print_figure(bytes_io, **kw)\n",
            "/home/trusted-service-user/cluster-env/env/lib/python3.10/site-packages/IPython/core/pylabtools.py:152: UserWarning: Glyph 51012 (\\N{HANGUL SYLLABLE EUL}) missing from current font.\n",
            "  fig.canvas.print_figure(bytes_io, **kw)\n",
            "/home/trusted-service-user/cluster-env/env/lib/python3.10/site-packages/IPython/core/pylabtools.py:152: UserWarning: Glyph 50948 (\\N{HANGUL SYLLABLE WI}) missing from current font.\n",
            "  fig.canvas.print_figure(bytes_io, **kw)\n",
            "/home/trusted-service-user/cluster-env/env/lib/python3.10/site-packages/IPython/core/pylabtools.py:152: UserWarning: Glyph 54620 (\\N{HANGUL SYLLABLE HAN}) missing from current font.\n",
            "  fig.canvas.print_figure(bytes_io, **kw)\n",
            "/home/trusted-service-user/cluster-env/env/lib/python3.10/site-packages/IPython/core/pylabtools.py:152: UserWarning: Glyph 44060 (\\N{HANGUL SYLLABLE GAE}) missing from current font.\n",
            "  fig.canvas.print_figure(bytes_io, **kw)\n",
            "/home/trusted-service-user/cluster-env/env/lib/python3.10/site-packages/IPython/core/pylabtools.py:152: UserWarning: Glyph 48320 (\\N{HANGUL SYLLABLE BYEON}) missing from current font.\n",
            "  fig.canvas.print_figure(bytes_io, **kw)\n",
            "/home/trusted-service-user/cluster-env/env/lib/python3.10/site-packages/IPython/core/pylabtools.py:152: UserWarning: Glyph 46020 (\\N{HANGUL SYLLABLE DO}) missing from current font.\n",
            "  fig.canvas.print_figure(bytes_io, **kw)\n"
          ]
        },
        {
          "data": {
            "image/png": "[encoded data removed]",
            "text/plain": [
              "<Figure size 800x500 with 1 Axes>"
            ]
          },
          "metadata": {},
          "output_type": "display_data"
        }
      ],
      "source": [
        "# 8. 변수 중요도 시각화\n",
        "import matplotlib.pyplot as plt\n",
        "import seaborn as sns\n",
        "\n",
        "feature_importance = pd.Series(model.feature_importances_, index=X.columns)\n",
        "top_features = feature_importance.sort_values(ascending=False).head(10)\n",
        "\n",
        "# plt.figure(figsize=(8, 5))\n",
        "# sns.barplot(x=top_features.values, y=top_features.index)\n",
        "# plt.title(\"가입자수 예측을 위한 상위 10개 변수 중요도\")\n",
        "# plt.xlabel(\"Feature Importance\")\n",
        "# plt.tight_layout()\n",
        "# plt.show()"
      ]
    },
    {
      "cell_type": "code",
      "execution_count": 17,
      "metadata": {
        "gather": {
          "logged": 1750143410153
        }
      },
      "outputs": [
        {
          "data": {
            "application/vnd.livy.statement-meta+json": {
              "execution_finish_time": "2025-06-17T06:56:49.9479656Z",
              "execution_start_time": "2025-06-17T06:56:49.6697677Z",
              "livy_statement_state": "available",
              "normalized_state": "finished",
              "parent_msg_id": "7d5926b7-dfb1-4b46-ad17-00e86c70ec55",
              "queued_time": "2025-06-17T06:56:49.6685836Z",
              "session_id": "2",
              "session_start_time": null,
              "spark_jobs": {
                "jobs": [],
                "limit": 20,
                "numbers": {
                  "FAILED": 0,
                  "RUNNING": 0,
                  "SUCCEEDED": 0,
                  "UNKNOWN": 0
                },
                "rule": "ALL_DESC"
              },
              "spark_pool": "5f59bc06-b850-41e5-9556-b74696325aeb",
              "state": "finished",
              "statement_id": 22,
              "statement_ids": [
                22
              ]
            },
            "text/plain": [
              "StatementMeta(5f59bc06-b850-41e5-9556-b74696325aeb, 2, 22, Finished, Available, Finished)"
            ]
          },
          "metadata": {},
          "output_type": "display_data"
        },
        {
          "data": {
            "text/plain": [
              "Index(['상태_해지', '상태사유_사용중', '상태_정상', '상태사유_요금 불만', '상태사유_단순 해지 요청',\n",
              "       '상태사유_서비스 품질 문제', '상태사유_장기 미사용', '상태사유_타사로 이동', '상태사유_일시적인 요금 부담',\n",
              "       '상태사유_해외 장기 출장'],\n",
              "      dtype='object')"
            ]
          },
          "execution_count": 43,
          "metadata": {},
          "output_type": "execute_result"
        }
      ],
      "source": [
        "top_features.index"
      ]
    },
    {
      "cell_type": "code",
      "execution_count": null,
      "metadata": {
        "gather": {
          "logged": 1750145284853
        }
      },
      "outputs": [
        {
          "data": {
            "application/vnd.livy.statement-meta+json": {
              "execution_finish_time": "2025-06-17T07:28:04.6589137Z",
              "execution_start_time": "2025-06-17T07:28:04.4208191Z",
              "livy_statement_state": "available",
              "normalized_state": "finished",
              "parent_msg_id": "32d07b57-75a6-4d95-81ca-30d8797b63e9",
              "queued_time": "2025-06-17T07:28:04.4195477Z",
              "session_id": "2",
              "session_start_time": null,
              "spark_jobs": {
                "jobs": [],
                "limit": 20,
                "numbers": {
                  "FAILED": 0,
                  "RUNNING": 0,
                  "SUCCEEDED": 0,
                  "UNKNOWN": 0
                },
                "rule": "ALL_DESC"
              },
              "spark_pool": "5f59bc06-b850-41e5-9556-b74696325aeb",
              "state": "finished",
              "statement_id": 25,
              "statement_ids": [
                25
              ]
            },
            "text/plain": [
              "StatementMeta(5f59bc06-b850-41e5-9556-b74696325aeb, 2, 25, Finished, Available, Finished)"
            ]
          },
          "metadata": {},
          "output_type": "display_data"
        },
        {
          "name": "stdout",
          "output_type": "stream",
          "text": [
            "✅ 예측 결과가 Blob Storage에 직접 저장되었습니다: predicted_subscribers_with_m_plus_1.csv\n"
          ]
        }
      ],
      "source": [
        "import pandas as pd\n",
        "from azure.storage.blob import BlobServiceClient\n",
        "from io import StringIO\n",
        "\n",
        "# ✅ 1. 예측 결과를 새 열로 붙인 새 DataFrame 생성 (원본 df는 수정하지 않음)\n",
        "df_with_prediction = pd.concat([df_rsc, pd.Series(y_pred, name='M+1')], axis=1)\n",
        "\n",
        "# ✅ 2. DataFrame → 메모리 내 CSV (파일 저장 없이)\n",
        "csv_buffer = StringIO()\n",
        "df_with_prediction.to_csv(csv_buffer, index=False, encoding='UTF-8')\n",
        "csv_buffer.seek(0)\n",
        "\n",
        "# ✅ 3. Azure Blob Storage 연결 설정\n",
        "connection_string = \"DefaultEndpointsProtocol=https;AccountName=sjleestoragemvp001;AccountKey=nYqt847X6cUYlaQeyquDVuTboKvQ1yk02/XvFSubnZTBNZy2JCQBE78ndulxDm6260ckdfFURAEg+AStTnjDLA==;EndpointSuffix=core.windows.net\"\n",
        "container_name = \"data\"\n",
        "blob_path = \"/ml/predicted_sbscr_with_m_plus_1.csv\"\n",
        "\n",
        "# ✅ 4. Blob 업로드\n",
        "blob_service_client = BlobServiceClient.from_connection_string(connection_string)\n",
        "blob_client = blob_service_client.get_blob_client(container=container_name, blob=blob_path)\n",
        "\n",
        "# ✅ 5. 업로드 실행 (메모리 버퍼 이용, 로컬 저장 없음)\n",
        "blob_client.upload_blob(csv_buffer.getvalue(), overwrite=True)\n",
        "\n",
        "print(f\"✅ 예측 결과가 Blob Storage에 직접 저장되었습니다: {blob_path}\")"
      ]
    },
    {
      "cell_type": "code",
      "execution_count": null,
      "metadata": {},
      "outputs": [],
      "source": []
    }
  ],
  "metadata": {
    "kernel_info": {
      "name": "synapse_pyspark"
    },
    "kernelspec": {
      "display_name": "Synapse PySpark",
      "language": "Python",
      "name": "synapse_pyspark"
    },
    "language_info": {
      "codemirror_mode": "ipython",
      "file_extension": ".py",
      "mimetype": "text/x-python",
      "name": "python",
      "nbconvert_exporter": "python",
      "pygments_lexer": "ipython",
      "version": "3.8.0"
    },
    "microsoft": {
      "host": {
        "AzureML": {
          "notebookHasBeenCompleted": true
        }
      }
    },
    "nteract": {
      "version": "nteract-front-end@1.0.0"
    }
  },
  "nbformat": 4,
  "nbformat_minor": 2
}
